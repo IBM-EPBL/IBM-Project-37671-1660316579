{
  "nbformat": 4,
  "nbformat_minor": 0,
  "metadata": {
    "colab": {
      "provenance": []
    },
    "kernelspec": {
      "name": "python3",
      "display_name": "Python 3"
    },
    "language_info": {
      "name": "python"
    }
  },
  "cells": [
    {
      "cell_type": "code",
      "execution_count": 2,
      "metadata": {
        "colab": {
          "base_uri": "https://localhost:8080/"
        },
        "id": "JMdn8buIvwDN",
        "outputId": "6142d0cc-f86a-445e-ba14-a6bfcbeafd6c"
      },
      "outputs": [
        {
          "output_type": "stream",
          "name": "stdout",
          "text": [
            "Looking in indexes: https://pypi.org/simple, https://us-python.pkg.dev/colab-wheels/public/simple/\n",
            "Collecting wiotp-sdk\n",
            "  Downloading wiotp-sdk-0.11.0.tar.gz (96 kB)\n",
            "\u001b[K     |████████████████████████████████| 96 kB 2.9 MB/s \n",
            "\u001b[?25hCollecting iso8601>=0.1.12\n",
            "  Downloading iso8601-1.1.0-py3-none-any.whl (9.9 kB)\n",
            "Requirement already satisfied: pytz>=2018.9 in /usr/local/lib/python3.7/dist-packages (from wiotp-sdk) (2022.6)\n",
            "Requirement already satisfied: pyyaml>=3.13 in /usr/local/lib/python3.7/dist-packages (from wiotp-sdk) (6.0)\n",
            "Collecting paho-mqtt>=1.5.0\n",
            "  Downloading paho-mqtt-1.6.1.tar.gz (99 kB)\n",
            "\u001b[K     |████████████████████████████████| 99 kB 7.9 MB/s \n",
            "\u001b[?25hRequirement already satisfied: requests>=2.21.0 in /usr/local/lib/python3.7/dist-packages (from wiotp-sdk) (2.23.0)\n",
            "Collecting requests_toolbelt>=0.8.0\n",
            "  Downloading requests_toolbelt-0.10.1-py2.py3-none-any.whl (54 kB)\n",
            "\u001b[K     |████████████████████████████████| 54 kB 2.7 MB/s \n",
            "\u001b[?25hRequirement already satisfied: chardet<4,>=3.0.2 in /usr/local/lib/python3.7/dist-packages (from requests>=2.21.0->wiotp-sdk) (3.0.4)\n",
            "Requirement already satisfied: certifi>=2017.4.17 in /usr/local/lib/python3.7/dist-packages (from requests>=2.21.0->wiotp-sdk) (2022.9.24)\n",
            "Requirement already satisfied: idna<3,>=2.5 in /usr/local/lib/python3.7/dist-packages (from requests>=2.21.0->wiotp-sdk) (2.10)\n",
            "Requirement already satisfied: urllib3!=1.25.0,!=1.25.1,<1.26,>=1.21.1 in /usr/local/lib/python3.7/dist-packages (from requests>=2.21.0->wiotp-sdk) (1.24.3)\n",
            "Building wheels for collected packages: wiotp-sdk, paho-mqtt\n",
            "  Building wheel for wiotp-sdk (setup.py) ... \u001b[?25l\u001b[?25hdone\n",
            "  Created wheel for wiotp-sdk: filename=wiotp_sdk-0.11.0-py3-none-any.whl size=97238 sha256=1feefc0cd4ba25270f6f399c5fc94a70310e4f3c610dfcef1844fba152f0947c\n",
            "  Stored in directory: /root/.cache/pip/wheels/56/f1/4b/2d7bc55ae8f9ef6e175c2c8be828fcd108b8c4b8c5ff613136\n",
            "  Building wheel for paho-mqtt (setup.py) ... \u001b[?25l\u001b[?25hdone\n",
            "  Created wheel for paho-mqtt: filename=paho_mqtt-1.6.1-py3-none-any.whl size=62132 sha256=a8d86a72db683d48001841c72c6fe94b250317bb40e2cc9e81d2ed5f46be606d\n",
            "  Stored in directory: /root/.cache/pip/wheels/d0/bf/ac/2b3f43f8c6fcd0f4ba5395397458c521eb0b52d33b574a5a40\n",
            "Successfully built wiotp-sdk paho-mqtt\n",
            "Installing collected packages: requests-toolbelt, paho-mqtt, iso8601, wiotp-sdk\n",
            "Successfully installed iso8601-1.1.0 paho-mqtt-1.6.1 requests-toolbelt-0.10.1 wiotp-sdk-0.11.0\n"
          ]
        }
      ],
      "source": [
        "#IBM Watson IOT Platform\n",
        "!pip install wiotp-sdk\n",
        "import wiotp.sdk.device\n",
        "import time\n",
        "import random"
      ]
    },
    {
      "cell_type": "code",
      "source": [
        "myConfig = { \n",
        "    \"identity\": {\n",
        "        \"orgId\": \"oafo2a\",\n",
        "        \"typeId\": \"christal-mcu\",\n",
        "        \"deviceId\":\"christal10\"\n",
        "    },\n",
        "    \"auth\": {\n",
        "        \"token\": \"LTz(zNR5)9u76ZFs6L\"\n",
        "    }\n",
        "}"
      ],
      "metadata": {
        "id": "fvApe2FqwAeJ"
      },
      "execution_count": 3,
      "outputs": []
    },
    {
      "cell_type": "code",
      "source": [
        "def myCommandCallback(cmd):\n",
        "    print(\"Message received from IBM IoT Platform: %s\" % cmd.data['command'])\n",
        "    m=cmd.data['command']"
      ],
      "metadata": {
        "id": "QeuWVHXtv418"
      },
      "execution_count": 4,
      "outputs": []
    },
    {
      "cell_type": "code",
      "source": [
        "client = wiotp.sdk.device.DeviceClient(config=myConfig, logHandlers=None)\n",
        "client.connect()"
      ],
      "metadata": {
        "id": "aNadm56bwHUK"
      },
      "execution_count": 6,
      "outputs": []
    },
    {
      "cell_type": "code",
      "source": [
        "while True:\n",
        "     temp=random.randint(-20,125)\n",
        "     hum=random.randint(0,100)\n",
        "     myData={'temperature':temp, 'humidity':hum}\n",
        "     client.publishEvent(eventId=\"status\", msgFormat=\"json\", data=myData, qos=0, onPublish=None)\n",
        "     print(\"Published data Successfully: %s\", myData)\n",
        "     #client.commandCallback = myCommandCallback\n",
        "     time.sleep(2)\n",
        " client.disconnect()"
      ],
      "metadata": {
        "id": "pvVFkqwPwLKK"
      },
      "execution_count": 9,
      "outputs": []
    },
    {
      "cell_type": "code",
      "source": [
        "print(\"connection established successfully\")"
      ],
      "metadata": {
        "colab": {
          "base_uri": "https://localhost:8080/"
        },
        "id": "bdq2yTG7wTaR",
        "outputId": "2aa1df3f-bac6-4596-c35f-ece9d5fe7c2e"
      },
      "execution_count": 11,
      "outputs": [
        {
          "output_type": "stream",
          "name": "stdout",
          "text": [
            "connection established successfully\n"
          ]
        }
      ]
    },
    {
      "cell_type": "code",
      "source": [],
      "metadata": {
        "id": "9NTwU34dwzQp"
      },
      "execution_count": null,
      "outputs": []
    }
  ]
}